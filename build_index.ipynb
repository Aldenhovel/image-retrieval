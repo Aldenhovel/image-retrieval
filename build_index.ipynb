{
 "cells": [
  {
   "cell_type": "code",
   "execution_count": 1,
   "id": "77978317-2d60-43cf-8212-401f3ed0b576",
   "metadata": {},
   "outputs": [],
   "source": [
    "import pathlib\n",
    "import tqdm\n",
    "import numpy as np\n",
    "import pickle"
   ]
  },
  {
   "cell_type": "markdown",
   "id": "84e85ac4-e557-42df-a666-7d0f124cf0d0",
   "metadata": {},
   "source": [
    "# Load Images and ImageToVector Model"
   ]
  },
  {
   "cell_type": "code",
   "execution_count": 2,
   "id": "edb2c4e4-d652-496b-b66c-d35944f47f1c",
   "metadata": {},
   "outputs": [],
   "source": [
    "gallery = pathlib.Path('gallery/')\n",
    "imgs = [*gallery.glob('*.jpg')]"
   ]
  },
  {
   "cell_type": "code",
   "execution_count": 3,
   "id": "3abe5ccb-f277-4a32-a350-3ac0115f337d",
   "metadata": {},
   "outputs": [
    {
     "name": "stdout",
     "output_type": "stream",
     "text": [
      "load INSTRUCTOR_Transformer\n",
      "max_seq_length  512\n"
     ]
    },
    {
     "data": {
      "text/plain": [
       "((1, 768),\n",
       " 'a picture of a colorful assortment of food items, including green broccoli, are arranged in plastic containers alongside a pink container many food ,  is in the photo . ')"
      ]
     },
     "execution_count": 3,
     "metadata": {},
     "output_type": "execute_result"
    }
   ],
   "source": [
    "from models.ImgToVector import ImgToVector\n",
    "model = ImgToVector()\n",
    "vector, caption = model(imgs[0])\n",
    "vector.shape, caption"
   ]
  },
  {
   "cell_type": "markdown",
   "id": "4f54c9f4-a188-4589-9eaa-258bc39f6951",
   "metadata": {},
   "source": [
    "# Encode Image to Vector"
   ]
  },
  {
   "cell_type": "code",
   "execution_count": 4,
   "id": "e7d97e92-a9d9-4f73-8309-77de007bc74e",
   "metadata": {},
   "outputs": [
    {
     "name": "stderr",
     "output_type": "stream",
     "text": [
      "100%|████████████████████████████████████████████████████████████████████████████████| 112/112 [01:36<00:00,  1.17it/s]\n"
     ]
    }
   ],
   "source": [
    "vectors = []\n",
    "for img in tqdm.tqdm(imgs):\n",
    "    vector, _ = model(img)\n",
    "    vectors.append(vector)"
   ]
  },
  {
   "cell_type": "code",
   "execution_count": 5,
   "id": "ebf3b41d-d541-4836-8447-9451f71a476d",
   "metadata": {},
   "outputs": [
    {
     "data": {
      "text/plain": [
       "(112, 768)"
      ]
     },
     "execution_count": 5,
     "metadata": {},
     "output_type": "execute_result"
    }
   ],
   "source": [
    "vectors_matrix = np.concatenate(vectors, axis=0)\n",
    "vectors_matrix.shape"
   ]
  },
  {
   "cell_type": "markdown",
   "id": "8049618b-236b-4a8b-acc5-49a212f3e0f2",
   "metadata": {},
   "source": [
    "# Save Image List and Feature Matrix"
   ]
  },
  {
   "cell_type": "code",
   "execution_count": 6,
   "id": "a78972bb-f34f-4087-b19c-bf116969b19a",
   "metadata": {},
   "outputs": [],
   "source": [
    "np.save('tmp/feature_matrix.npy', vectors_matrix)\n",
    "with open('tmp/imgs.pkl', 'wb') as f:\n",
    "    data = pickle.dump(imgs, f)"
   ]
  },
  {
   "cell_type": "code",
   "execution_count": null,
   "id": "4b9774a6-f7ce-40d0-be5c-d47ecb14ead0",
   "metadata": {},
   "outputs": [],
   "source": []
  }
 ],
 "metadata": {
  "kernelspec": {
   "display_name": "Python 3 (ipykernel)",
   "language": "python",
   "name": "python3"
  },
  "language_info": {
   "codemirror_mode": {
    "name": "ipython",
    "version": 3
   },
   "file_extension": ".py",
   "mimetype": "text/x-python",
   "name": "python",
   "nbconvert_exporter": "python",
   "pygments_lexer": "ipython3",
   "version": "3.9.13"
  }
 },
 "nbformat": 4,
 "nbformat_minor": 5
}
