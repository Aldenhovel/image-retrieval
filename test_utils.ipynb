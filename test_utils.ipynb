{
 "cells": [
  {
   "cell_type": "code",
   "execution_count": 1,
   "id": "cc72ba46-7862-4480-847e-5309345e928c",
   "metadata": {},
   "outputs": [],
   "source": [
    "import torch\n",
    "device = torch.device(\"cuda:0\")"
   ]
  },
  {
   "cell_type": "markdown",
   "id": "15ddeeae-f9a8-451e-9ebd-7f48df87daa4",
   "metadata": {},
   "source": [
    "# Test Fusecap"
   ]
  },
  {
   "cell_type": "code",
   "execution_count": 2,
   "id": "ca15023e-cf04-4355-a472-fa60f75fdc1c",
   "metadata": {},
   "outputs": [
    {
     "data": {
      "text/plain": [
       "'a picture of two giraffes stand tall amidst a lush green landscape, with a blue sky overhead and trees in the background one giraffe has a long neck and the other has'"
      ]
     },
     "execution_count": 2,
     "metadata": {},
     "output_type": "execute_result"
    }
   ],
   "source": [
    "from models.Caption import CaptionInfer\n",
    "model = CaptionInfer(device)\n",
    "model('gallery/COCO_train2014_000000000025.jpg')"
   ]
  },
  {
   "cell_type": "markdown",
   "id": "1efae1c1-fe51-49d6-9bfd-c31f5534f76c",
   "metadata": {
    "tags": []
   },
   "source": [
    "# Test Instructor-Embedding"
   ]
  },
  {
   "cell_type": "code",
   "execution_count": 3,
   "id": "8aeb0456-cf50-41bd-8ba3-a2504bd4b562",
   "metadata": {},
   "outputs": [
    {
     "name": "stdout",
     "output_type": "stream",
     "text": [
      "load INSTRUCTOR_Transformer\n",
      "max_seq_length  512\n"
     ]
    },
    {
     "data": {
      "text/plain": [
       "(1, 768)"
      ]
     },
     "execution_count": 3,
     "metadata": {},
     "output_type": "execute_result"
    }
   ],
   "source": [
    "from models.Instructor import InstructorInfer\n",
    "model = InstructorInfer(device)\n",
    "res = model(\"hello world.\", intro=\"x\")\n",
    "res.shape"
   ]
  },
  {
   "cell_type": "markdown",
   "id": "f9ea6e6b-9525-4037-acc4-14e9046c35d5",
   "metadata": {},
   "source": [
    "# Test YOLOv8"
   ]
  },
  {
   "cell_type": "code",
   "execution_count": 4,
   "id": "077c6745-e0be-4b5e-af58-19a72c33b482",
   "metadata": {},
   "outputs": [
    {
     "data": {
      "text/plain": [
       "defaultdict(int, {'giraffe': 'two', 'tree': 'one'})"
      ]
     },
     "execution_count": 4,
     "metadata": {},
     "output_type": "execute_result"
    }
   ],
   "source": [
    "from models.YOLOv8 import YOLOv8Infer\n",
    "model = YOLOv8Infer(device)\n",
    "model('gallery/COCO_train2014_000000000025.jpg')"
   ]
  },
  {
   "cell_type": "markdown",
   "id": "e628b1d1-8fd2-4f0d-b97f-7daf0ba28bfe",
   "metadata": {},
   "source": [
    "# Test Tweet-topic-21"
   ]
  },
  {
   "cell_type": "code",
   "execution_count": 5,
   "id": "744729d5-630a-40dc-9eb6-f139b2783a83",
   "metadata": {},
   "outputs": [
    {
     "data": {
      "text/plain": [
       "'represent the diaries and daily lifetravel and adventure title:'"
      ]
     },
     "execution_count": 5,
     "metadata": {},
     "output_type": "execute_result"
    }
   ],
   "source": [
    "from models.Topic import TopicInfer\n",
    "model = TopicInfer(device)\n",
    "model(\"a picture of two giraffes stand tall amidst a lush green landscape.\")"
   ]
  },
  {
   "cell_type": "markdown",
   "id": "b6d06460-32d7-4cc8-a118-edb64bfd4993",
   "metadata": {},
   "source": [
    "# Test ImgToVector"
   ]
  },
  {
   "cell_type": "code",
   "execution_count": 6,
   "id": "59a31eb0-0642-4b30-8a4e-69feefc99507",
   "metadata": {},
   "outputs": [
    {
     "name": "stdout",
     "output_type": "stream",
     "text": [
      "load INSTRUCTOR_Transformer\n",
      "max_seq_length  512\n"
     ]
    },
    {
     "data": {
      "text/plain": [
       "((1, 768),\n",
       " 'a picture of two giraffes stand tall amidst a lush green landscape, with a blue sky overhead and trees in the background one giraffe has a long neck and the other has two giraffe , one tree ,  is in the photo . ')"
      ]
     },
     "execution_count": 6,
     "metadata": {},
     "output_type": "execute_result"
    }
   ],
   "source": [
    "from models.ImgToVector import ImgToVector\n",
    "model = ImgToVector()\n",
    "vector, caption = model('gallery/COCO_train2014_000000000025.jpg')\n",
    "vector.shape, caption"
   ]
  },
  {
   "cell_type": "markdown",
   "id": "30173506-9c7a-4cb4-89e5-e66ed1dd3a53",
   "metadata": {},
   "source": [
    "# Test TextToVector"
   ]
  },
  {
   "cell_type": "code",
   "execution_count": 7,
   "id": "822524c7-c5a3-4b51-a987-ecde01e31708",
   "metadata": {},
   "outputs": [
    {
     "name": "stdout",
     "output_type": "stream",
     "text": [
      "load INSTRUCTOR_Transformer\n",
      "max_seq_length  512\n"
     ]
    },
    {
     "data": {
      "text/plain": [
       "(1, 768)"
      ]
     },
     "execution_count": 7,
     "metadata": {},
     "output_type": "execute_result"
    }
   ],
   "source": [
    "from models.TextToVector import TextToVector\n",
    "model = TextToVector()\n",
    "vector = model('a picture of two giraffes stand tall amidst a lush green landscape')\n",
    "vector.shape"
   ]
  },
  {
   "cell_type": "code",
   "execution_count": null,
   "id": "998e6764-8c4c-478c-ab86-b9526bf7db2f",
   "metadata": {},
   "outputs": [],
   "source": []
  }
 ],
 "metadata": {
  "kernelspec": {
   "display_name": "Python 3 (ipykernel)",
   "language": "python",
   "name": "python3"
  },
  "language_info": {
   "codemirror_mode": {
    "name": "ipython",
    "version": 3
   },
   "file_extension": ".py",
   "mimetype": "text/x-python",
   "name": "python",
   "nbconvert_exporter": "python",
   "pygments_lexer": "ipython3",
   "version": "3.9.13"
  }
 },
 "nbformat": 4,
 "nbformat_minor": 5
}
